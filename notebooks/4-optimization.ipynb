{
 "cells": [
  {
   "metadata": {},
   "cell_type": "markdown",
   "source": "# Fine-tune a BERT model"
  },
  {
   "metadata": {
    "ExecuteTime": {
     "end_time": "2024-12-20T17:35:28.097093Z",
     "start_time": "2024-12-20T17:35:28.093486Z"
    }
   },
   "cell_type": "code",
   "source": [
    "from functions_variables import *\n",
    "from sklearn.metrics import accuracy_score, precision_recall_fscore_support"
   ],
   "outputs": [],
   "execution_count": 32
  },
  {
   "metadata": {
    "ExecuteTime": {
     "end_time": "2024-12-20T17:35:28.240072Z",
     "start_time": "2024-12-20T17:35:28.111203Z"
    }
   },
   "cell_type": "code",
   "source": [
    "#Load the dataset\n",
    "path = '../data/preprocessed/'\n",
    "files = {name: f'{path}{name}.csv' for name in set_names}\n",
    "dataset = load_dataset('csv', data_files=files)\n",
    "limit = 1000  # 25000 for the full dataset\n",
    "train = dataset[\"train\"].shuffle(seed=42).select(range(limit))\n",
    "test = dataset[\"test\"].shuffle(seed=42).select(range(limit))\n",
    "unsupervised = dataset[\"unsupervised\"].shuffle(seed=42).select(range(limit))\n",
    "# labels = train['label']"
   ],
   "outputs": [],
   "execution_count": 33
  },
  {
   "metadata": {
    "ExecuteTime": {
     "end_time": "2024-12-20T17:35:28.247586Z",
     "start_time": "2024-12-20T17:35:28.244597Z"
    }
   },
   "cell_type": "code",
   "source": [
    "# Define your compute_metrics function\n",
    "def compute_metrics(eval_pred):\n",
    "    logits, labels = eval_pred\n",
    "    predictions = logits.argmax(axis=-1)\n",
    "    precision, recall, f1, _ = precision_recall_fscore_support(labels, predictions, average=\"binary\")\n",
    "    acc = accuracy_score(labels, predictions)\n",
    "    return {\"accuracy\": acc, \"precision\": precision, \"recall\": recall, \"f1\": f1}\n",
    "\n",
    "\n",
    "# Tokenize the dataset\n",
    "def preprocess_function(examples):\n",
    "    return tokenizer(examples[\"text\"], padding=\"max_length\", truncation=True, max_length=128)"
   ],
   "outputs": [],
   "execution_count": 34
  },
  {
   "metadata": {
    "ExecuteTime": {
     "end_time": "2024-12-20T17:36:15.435322Z",
     "start_time": "2024-12-20T17:36:05.722857Z"
    }
   },
   "cell_type": "code",
   "source": [
    "dataset = dataset.map(preprocess_function, batched=True)\n",
    "train = dataset[\"train\"].shuffle(seed=42).select(range(limit))\n",
    "test = dataset[\"test\"].shuffle(seed=42).select(range(limit))\n",
    "unsupervised = dataset[\"unsupervised\"].shuffle(seed=42).select(range(limit))"
   ],
   "outputs": [
    {
     "data": {
      "text/plain": [
       "Map:   0%|          | 0/25000 [00:00<?, ? examples/s]"
      ],
      "application/vnd.jupyter.widget-view+json": {
       "version_major": 2,
       "version_minor": 0,
       "model_id": "5cc0a34e4586428581c3465930ca8ee8"
      }
     },
     "metadata": {},
     "output_type": "display_data"
    },
    {
     "data": {
      "text/plain": [
       "Map:   0%|          | 0/25000 [00:00<?, ? examples/s]"
      ],
      "application/vnd.jupyter.widget-view+json": {
       "version_major": 2,
       "version_minor": 0,
       "model_id": "46be6d2aef974018b4d5e3bef7c2d9de"
      }
     },
     "metadata": {},
     "output_type": "display_data"
    },
    {
     "data": {
      "text/plain": [
       "Map:   0%|          | 0/50000 [00:00<?, ? examples/s]"
      ],
      "application/vnd.jupyter.widget-view+json": {
       "version_major": 2,
       "version_minor": 0,
       "model_id": "2a37ea7540ed4b66ae9b3c2876f79edd"
      }
     },
     "metadata": {},
     "output_type": "display_data"
    }
   ],
   "execution_count": 38
  },
  {
   "metadata": {
    "ExecuteTime": {
     "end_time": "2024-12-20T17:36:20.236738Z",
     "start_time": "2024-12-20T17:36:20.084196Z"
    }
   },
   "cell_type": "code",
   "source": [
    "model_name = 'bert-base-uncased'\n",
    "model = AutoModelForSequenceClassification.from_pretrained(model_name, num_labels=2)\n",
    "tokenizer = AutoTokenizer.from_pretrained(model_name)\n"
   ],
   "outputs": [
    {
     "name": "stderr",
     "output_type": "stream",
     "text": [
      "Some weights of BertForSequenceClassification were not initialized from the model checkpoint at bert-base-uncased and are newly initialized: ['classifier.bias', 'classifier.weight']\n",
      "You should probably TRAIN this model on a down-stream task to be able to use it for predictions and inference.\n"
     ]
    }
   ],
   "execution_count": 39
  },
  {
   "metadata": {
    "ExecuteTime": {
     "end_time": "2024-12-20T17:38:26.290227Z",
     "start_time": "2024-12-20T17:36:33.981831Z"
    }
   },
   "cell_type": "code",
   "source": [
    "training_args = TrainingArguments(\n",
    "    output_dir=\"../data/results\",\n",
    "    evaluation_strategy=\"epoch\",\n",
    "    save_strategy=\"epoch\",\n",
    "    learning_rate=2e-5,\n",
    "    per_device_train_batch_size=16,\n",
    "    per_device_eval_batch_size=16,\n",
    "    num_train_epochs=4,\n",
    "    weight_decay=0.01,\n",
    "    logging_dir=\"../data/logs\",\n",
    "    load_best_model_at_end=True,\n",
    ")\n",
    "\n",
    "trainer = Trainer(\n",
    "    model=model,\n",
    "    args=training_args,\n",
    "    train_dataset=train,\n",
    "    eval_dataset=test,\n",
    "    processing_class=tokenizer,\n",
    "    compute_metrics=compute_metrics,\n",
    ")\n",
    "\n",
    "trainer.train()\n"
   ],
   "outputs": [
    {
     "data": {
      "text/plain": [
       "<IPython.core.display.HTML object>"
      ],
      "text/html": [
       "\n",
       "    <div>\n",
       "      \n",
       "      <progress value='252' max='252' style='width:300px; height:20px; vertical-align: middle;'></progress>\n",
       "      [252/252 01:46, Epoch 4/4]\n",
       "    </div>\n",
       "    <table border=\"1\" class=\"dataframe\">\n",
       "  <thead>\n",
       " <tr style=\"text-align: left;\">\n",
       "      <th>Epoch</th>\n",
       "      <th>Training Loss</th>\n",
       "      <th>Validation Loss</th>\n",
       "      <th>Accuracy</th>\n",
       "      <th>Precision</th>\n",
       "      <th>Recall</th>\n",
       "      <th>F1</th>\n",
       "    </tr>\n",
       "  </thead>\n",
       "  <tbody>\n",
       "    <tr>\n",
       "      <td>1</td>\n",
       "      <td>No log</td>\n",
       "      <td>0.458201</td>\n",
       "      <td>0.820000</td>\n",
       "      <td>0.811741</td>\n",
       "      <td>0.821721</td>\n",
       "      <td>0.816701</td>\n",
       "    </tr>\n",
       "    <tr>\n",
       "      <td>2</td>\n",
       "      <td>No log</td>\n",
       "      <td>0.363058</td>\n",
       "      <td>0.849000</td>\n",
       "      <td>0.816135</td>\n",
       "      <td>0.891393</td>\n",
       "      <td>0.852106</td>\n",
       "    </tr>\n",
       "    <tr>\n",
       "      <td>3</td>\n",
       "      <td>No log</td>\n",
       "      <td>0.450160</td>\n",
       "      <td>0.831000</td>\n",
       "      <td>0.889976</td>\n",
       "      <td>0.745902</td>\n",
       "      <td>0.811594</td>\n",
       "    </tr>\n",
       "    <tr>\n",
       "      <td>4</td>\n",
       "      <td>No log</td>\n",
       "      <td>0.387910</td>\n",
       "      <td>0.848000</td>\n",
       "      <td>0.826848</td>\n",
       "      <td>0.870902</td>\n",
       "      <td>0.848303</td>\n",
       "    </tr>\n",
       "  </tbody>\n",
       "</table><p>"
      ]
     },
     "metadata": {},
     "output_type": "display_data"
    },
    {
     "data": {
      "text/plain": [
       "TrainOutput(global_step=252, training_loss=0.36506104847741505, metrics={'train_runtime': 112.0114, 'train_samples_per_second': 35.711, 'train_steps_per_second': 2.25, 'total_flos': 263111055360000.0, 'train_loss': 0.36506104847741505, 'epoch': 4.0})"
      ]
     },
     "execution_count": 40,
     "metadata": {},
     "output_type": "execute_result"
    }
   ],
   "execution_count": 40
  }
 ],
 "metadata": {
  "language_info": {
   "name": "python"
  },
  "orig_nbformat": 4,
  "kernelspec": {
   "name": "python3",
   "language": "python",
   "display_name": "Python 3 (ipykernel)"
  }
 },
 "nbformat": 4,
 "nbformat_minor": 2
}
