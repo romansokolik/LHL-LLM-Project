{
 "cells": [
  {
   "metadata": {},
   "cell_type": "markdown",
   "source": [
    "# Accessing Dataset & Project Checkpoint\n",
    "\n",
    "### Applying Tokenization and Text Representation Methods"
   ],
   "id": "933a264ad9b310d8"
  },
  {
   "metadata": {
    "ExecuteTime": {
     "end_time": "2024-12-20T16:32:27.374411Z",
     "start_time": "2024-12-20T16:32:24.477715Z"
    }
   },
   "cell_type": "code",
   "source": [
    "from functions_variables import *\n",
    "\n",
    "# Variables\n",
    "limit = 10  # 25000 for the full dataset\n",
    "sample_size = 1"
   ],
   "id": "9a1722a6a0d13117",
   "outputs": [],
   "execution_count": 1
  },
  {
   "metadata": {
    "ExecuteTime": {
     "end_time": "2024-12-20T16:32:29.620270Z",
     "start_time": "2024-12-20T16:32:27.379326Z"
    }
   },
   "cell_type": "code",
   "source": [
    "ds = load_dataset('imdb')\n",
    "ds.shape"
   ],
   "id": "84aeedda1c3746d4",
   "outputs": [
    {
     "data": {
      "text/plain": [
       "{'train': (25000, 2), 'test': (25000, 2), 'unsupervised': (50000, 2)}"
      ]
     },
     "execution_count": 2,
     "metadata": {},
     "output_type": "execute_result"
    }
   ],
   "execution_count": 2
  },
  {
   "metadata": {
    "ExecuteTime": {
     "end_time": "2024-12-20T16:32:29.867821Z",
     "start_time": "2024-12-20T16:32:29.865162Z"
    }
   },
   "cell_type": "code",
   "source": [
    "# Limit the dataset samples\n",
    "# for set_name in set_names:\n",
    "#     ds[set_name] = ds[set_name].select(range(limit))\n",
    "ds.shape"
   ],
   "id": "ee9afed5092640ae",
   "outputs": [
    {
     "data": {
      "text/plain": [
       "{'train': (25000, 2), 'test': (25000, 2), 'unsupervised': (50000, 2)}"
      ]
     },
     "execution_count": 3,
     "metadata": {},
     "output_type": "execute_result"
    }
   ],
   "execution_count": 3
  },
  {
   "metadata": {
    "ExecuteTime": {
     "end_time": "2024-12-20T16:32:29.875118Z",
     "start_time": "2024-12-20T16:32:29.873013Z"
    }
   },
   "cell_type": "code",
   "source": [
    "# The split dataset - train, test and unsupervised\n",
    "DatasetDict({set_name: ds[set_name] for set_name in set_names})"
   ],
   "id": "cecd93ba0ec8a910",
   "outputs": [
    {
     "data": {
      "text/plain": [
       "DatasetDict({\n",
       "    train: Dataset({\n",
       "        features: ['text', 'label'],\n",
       "        num_rows: 25000\n",
       "    })\n",
       "    test: Dataset({\n",
       "        features: ['text', 'label'],\n",
       "        num_rows: 25000\n",
       "    })\n",
       "    unsupervised: Dataset({\n",
       "        features: ['text', 'label'],\n",
       "        num_rows: 50000\n",
       "    })\n",
       "})"
      ]
     },
     "execution_count": 4,
     "metadata": {},
     "output_type": "execute_result"
    }
   ],
   "execution_count": 4
  },
  {
   "metadata": {
    "ExecuteTime": {
     "end_time": "2024-12-20T16:32:29.890031Z",
     "start_time": "2024-12-20T16:32:29.887663Z"
    }
   },
   "cell_type": "code",
   "source": [
    "# Checking the first n rows of the train dataset\n",
    "view_apply_function(ds)"
   ],
   "id": "877d3667abaede10",
   "outputs": [
    {
     "name": "stdout",
     "output_type": "stream",
     "text": [
      "\n",
      "train DataSet:\n",
      " {'text': ['I rented I AM CURIOUS-YELLOW from my video store because of all the controversy that surrounded it when it was first released in 1967. I also heard that at first it was seized by U.S. customs if it ever tried to enter this country, therefore being a fan of films considered \"controversial\" I really had to see this for myself.<br /><br />The plot is centered around a young Swedish drama student named Lena who wants to learn everything she can about life. In particular she wants to focus her attentions to making some sort of documentary on what the average Swede thought about certain political issues such as the Vietnam War and race issues in the United States. In between asking politicians and ordinary denizens of Stockholm about their opinions on politics, she has sex with her drama teacher, classmates, and married men.<br /><br />What kills me about I AM CURIOUS-YELLOW is that 40 years ago, this was considered pornographic. Really, the sex and nudity scenes are few and far between, even then it\\'s not shot like some cheaply made porno. While my countrymen mind find it shocking, in reality sex and nudity are a major staple in Swedish cinema. Even Ingmar Bergman, arguably their answer to good old boy John Ford, had sex scenes in his films.<br /><br />I do commend the filmmakers for the fact that any sex shown in the film is shown for artistic purposes rather than just to shock people and make money to be shown in pornographic theaters in America. I AM CURIOUS-YELLOW is a good film for anyone wanting to study the meat and potatoes (no pun intended) of Swedish cinema. But really, this film doesn\\'t have much of a plot.'], 'label': [0]}\n",
      "\n",
      "test DataSet:\n",
      " {'text': ['I love sci-fi and am willing to put up with a lot. Sci-fi movies/TV are usually underfunded, under-appreciated and misunderstood. I tried to like this, I really did, but it is to good TV sci-fi as Babylon 5 is to Star Trek (the original). Silly prosthetics, cheap cardboard sets, stilted dialogues, CG that doesn\\'t match the background, and painfully one-dimensional characters cannot be overcome with a \\'sci-fi\\' setting. (I\\'m sure there are those of you out there who think Babylon 5 is good sci-fi TV. It\\'s not. It\\'s clichéd and uninspiring.) While US viewers might like emotion and character development, sci-fi is a genre that does not take itself seriously (cf. Star Trek). It may treat important issues, yet not as a serious philosophy. It\\'s really difficult to care about the characters here as they are not simply foolish, just missing a spark of life. Their actions and reactions are wooden and predictable, often painful to watch. The makers of Earth KNOW it\\'s rubbish as they have to always say \"Gene Roddenberry\\'s Earth...\" otherwise people would not continue watching. Roddenberry\\'s ashes must be turning in their orbit as this dull, cheap, poorly edited (watching it without advert breaks really brings this home) trudging Trabant of a show lumbers into space. Spoiler. So, kill off a main character. And then bring him back as another actor. Jeeez! Dallas all over again.'], 'label': [0]}\n",
      "\n",
      "unsupervised DataSet:\n",
      " {'text': ['This is just a precious little diamond. The play, the script are excellent. I cant compare this movie with anything else, maybe except the movie \"Leon\" wonderfully played by Jean Reno and Natalie Portman. But... What can I say about this one? This is the best movie Anne Parillaud has ever played in (See please \"Frankie Starlight\", she\\'s speaking English there) to see what I mean. The story of young punk girl Nikita, taken into the depraved world of the secret government forces has been exceptionally over used by Americans. Never mind the \"Point of no return\" and especially the \"La femme Nikita\" TV series. They cannot compare the original believe me! Trash these videos. Buy this one, do not rent it, BUY it. BTW beware of the subtitles of the LA company which \"translate\" the US release. What a disgrace! If you cant understand French, get a dubbed version. But you\\'ll regret later :)'], 'label': [-1]}\n"
     ]
    }
   ],
   "execution_count": 5
  },
  {
   "metadata": {},
   "cell_type": "markdown",
   "source": "### Basic Text Preprocessing (NLP)",
   "id": "582d2d3b3876c53e"
  },
  {
   "metadata": {
    "ExecuteTime": {
     "end_time": "2024-12-20T16:32:29.924401Z",
     "start_time": "2024-12-20T16:32:29.903322Z"
    }
   },
   "cell_type": "code",
   "source": [
    "# Removing HTML tags\n",
    "view_apply_function(ds, sample_size, fun=remove_html_tags)"
   ],
   "id": "f2ac1c3c452c4eb4",
   "outputs": [
    {
     "name": "stdout",
     "output_type": "stream",
     "text": [
      "\n",
      "train DataSet:\n",
      " {'text': ['I rented I AM CURIOUS-YELLOW from my video store because of all the controversy that surrounded it when it was first released in 1967. I also heard that at first it was seized by U.S. customs if it ever tried to enter this country, therefore being a fan of films considered \"controversial\" I really had to see this for myself.  The plot is centered around a young Swedish drama student named Lena who wants to learn everything she can about life. In particular she wants to focus her attentions to making some sort of documentary on what the average Swede thought about certain political issues such as the Vietnam War and race issues in the United States. In between asking politicians and ordinary denizens of Stockholm about their opinions on politics, she has sex with her drama teacher, classmates, and married men.  What kills me about I AM CURIOUS-YELLOW is that 40 years ago, this was considered pornographic. Really, the sex and nudity scenes are few and far between, even then it\\'s not shot like some cheaply made porno. While my countrymen mind find it shocking, in reality sex and nudity are a major staple in Swedish cinema. Even Ingmar Bergman, arguably their answer to good old boy John Ford, had sex scenes in his films.  I do commend the filmmakers for the fact that any sex shown in the film is shown for artistic purposes rather than just to shock people and make money to be shown in pornographic theaters in America. I AM CURIOUS-YELLOW is a good film for anyone wanting to study the meat and potatoes (no pun intended) of Swedish cinema. But really, this film doesn\\'t have much of a plot.'], 'label': [0]}\n",
      "\n",
      "test DataSet:\n",
      " {'text': ['I love sci-fi and am willing to put up with a lot. Sci-fi movies/TV are usually underfunded, under-appreciated and misunderstood. I tried to like this, I really did, but it is to good TV sci-fi as Babylon 5 is to Star Trek (the original). Silly prosthetics, cheap cardboard sets, stilted dialogues, CG that doesn\\'t match the background, and painfully one-dimensional characters cannot be overcome with a \\'sci-fi\\' setting. (I\\'m sure there are those of you out there who think Babylon 5 is good sci-fi TV. It\\'s not. It\\'s clichéd and uninspiring.) While US viewers might like emotion and character development, sci-fi is a genre that does not take itself seriously (cf. Star Trek). It may treat important issues, yet not as a serious philosophy. It\\'s really difficult to care about the characters here as they are not simply foolish, just missing a spark of life. Their actions and reactions are wooden and predictable, often painful to watch. The makers of Earth KNOW it\\'s rubbish as they have to always say \"Gene Roddenberry\\'s Earth...\" otherwise people would not continue watching. Roddenberry\\'s ashes must be turning in their orbit as this dull, cheap, poorly edited (watching it without advert breaks really brings this home) trudging Trabant of a show lumbers into space. Spoiler. So, kill off a main character. And then bring him back as another actor. Jeeez! Dallas all over again.'], 'label': [0]}\n",
      "\n",
      "unsupervised DataSet:\n",
      " {'text': ['This is just a precious little diamond. The play, the script are excellent. I cant compare this movie with anything else, maybe except the movie \"Leon\" wonderfully played by Jean Reno and Natalie Portman. But... What can I say about this one? This is the best movie Anne Parillaud has ever played in (See please \"Frankie Starlight\", she\\'s speaking English there) to see what I mean. The story of young punk girl Nikita, taken into the depraved world of the secret government forces has been exceptionally over used by Americans. Never mind the \"Point of no return\" and especially the \"La femme Nikita\" TV series. They cannot compare the original believe me! Trash these videos. Buy this one, do not rent it, BUY it. BTW beware of the subtitles of the LA company which \"translate\" the US release. What a disgrace! If you cant understand French, get a dubbed version. But you\\'ll regret later :)'], 'label': [-1]}\n"
     ]
    }
   ],
   "execution_count": 6
  },
  {
   "metadata": {
    "ExecuteTime": {
     "end_time": "2024-12-20T16:32:29.948807Z",
     "start_time": "2024-12-20T16:32:29.928822Z"
    }
   },
   "cell_type": "code",
   "source": [
    "# Removing URLs\n",
    "view_apply_function(ds, sample_size, fun=remove_urls)"
   ],
   "id": "58ed317d2c7e628",
   "outputs": [
    {
     "name": "stdout",
     "output_type": "stream",
     "text": [
      "\n",
      "train DataSet:\n",
      " {'text': ['I rented I AM CURIOUS-YELLOW from my video store because of all the controversy that surrounded it when it was first released in 1967. I also heard that at first it was seized by U.S. customs if it ever tried to enter this country, therefore being a fan of films considered \"controversial\" I really had to see this for myself.  The plot is centered around a young Swedish drama student named Lena who wants to learn everything she can about life. In particular she wants to focus her attentions to making some sort of documentary on what the average Swede thought about certain political issues such as the Vietnam War and race issues in the United States. In between asking politicians and ordinary denizens of Stockholm about their opinions on politics, she has sex with her drama teacher, classmates, and married men.  What kills me about I AM CURIOUS-YELLOW is that 40 years ago, this was considered pornographic. Really, the sex and nudity scenes are few and far between, even then it\\'s not shot like some cheaply made porno. While my countrymen mind find it shocking, in reality sex and nudity are a major staple in Swedish cinema. Even Ingmar Bergman, arguably their answer to good old boy John Ford, had sex scenes in his films.  I do commend the filmmakers for the fact that any sex shown in the film is shown for artistic purposes rather than just to shock people and make money to be shown in pornographic theaters in America. I AM CURIOUS-YELLOW is a good film for anyone wanting to study the meat and potatoes (no pun intended) of Swedish cinema. But really, this film doesn\\'t have much of a plot.'], 'label': [0]}\n",
      "\n",
      "test DataSet:\n",
      " {'text': ['I love sci-fi and am willing to put up with a lot. Sci-fi movies/TV are usually underfunded, under-appreciated and misunderstood. I tried to like this, I really did, but it is to good TV sci-fi as Babylon 5 is to Star Trek (the original). Silly prosthetics, cheap cardboard sets, stilted dialogues, CG that doesn\\'t match the background, and painfully one-dimensional characters cannot be overcome with a \\'sci-fi\\' setting. (I\\'m sure there are those of you out there who think Babylon 5 is good sci-fi TV. It\\'s not. It\\'s clichéd and uninspiring.) While US viewers might like emotion and character development, sci-fi is a genre that does not take itself seriously (cf. Star Trek). It may treat important issues, yet not as a serious philosophy. It\\'s really difficult to care about the characters here as they are not simply foolish, just missing a spark of life. Their actions and reactions are wooden and predictable, often painful to watch. The makers of Earth KNOW it\\'s rubbish as they have to always say \"Gene Roddenberry\\'s Earth...\" otherwise people would not continue watching. Roddenberry\\'s ashes must be turning in their orbit as this dull, cheap, poorly edited (watching it without advert breaks really brings this home) trudging Trabant of a show lumbers into space. Spoiler. So, kill off a main character. And then bring him back as another actor. Jeeez! Dallas all over again.'], 'label': [0]}\n",
      "\n",
      "unsupervised DataSet:\n",
      " {'text': ['This is just a precious little diamond. The play, the script are excellent. I cant compare this movie with anything else, maybe except the movie \"Leon\" wonderfully played by Jean Reno and Natalie Portman. But... What can I say about this one? This is the best movie Anne Parillaud has ever played in (See please \"Frankie Starlight\", she\\'s speaking English there) to see what I mean. The story of young punk girl Nikita, taken into the depraved world of the secret government forces has been exceptionally over used by Americans. Never mind the \"Point of no return\" and especially the \"La femme Nikita\" TV series. They cannot compare the original believe me! Trash these videos. Buy this one, do not rent it, BUY it. BTW beware of the subtitles of the LA company which \"translate\" the US release. What a disgrace! If you cant understand French, get a dubbed version. But you\\'ll regret later :)'], 'label': [-1]}\n"
     ]
    }
   ],
   "execution_count": 7
  },
  {
   "metadata": {
    "ExecuteTime": {
     "end_time": "2024-12-20T16:32:29.972894Z",
     "start_time": "2024-12-20T16:32:29.953468Z"
    }
   },
   "cell_type": "code",
   "source": [
    "# Removing punctuation\n",
    "view_apply_function(ds, sample_size, fun=remove_punctuation)"
   ],
   "id": "3df330701e6f90eb",
   "outputs": [
    {
     "name": "stdout",
     "output_type": "stream",
     "text": [
      "\n",
      "train DataSet:\n",
      " {'text': ['I rented I AM CURIOUS YELLOW from my video store because of all the controversy that surrounded it when it was first released in 1967  I also heard that at first it was seized by U S  customs if it ever tried to enter this country  therefore being a fan of films considered  controversial  I really had to see this for myself   The plot is centered around a young Swedish drama student named Lena who wants to learn everything she can about life  In particular she wants to focus her attentions to making some sort of documentary on what the average Swede thought about certain political issues such as the Vietnam War and race issues in the United States  In between asking politicians and ordinary denizens of Stockholm about their opinions on politics  she has sex with her drama teacher  classmates  and married men   What kills me about I AM CURIOUS YELLOW is that 40 years ago  this was considered pornographic  Really  the sex and nudity scenes are few and far between  even then it s not shot like some cheaply made porno  While my countrymen mind find it shocking  in reality sex and nudity are a major staple in Swedish cinema  Even Ingmar Bergman  arguably their answer to good old boy John Ford  had sex scenes in his films   I do commend the filmmakers for the fact that any sex shown in the film is shown for artistic purposes rather than just to shock people and make money to be shown in pornographic theaters in America  I AM CURIOUS YELLOW is a good film for anyone wanting to study the meat and potatoes  no pun intended  of Swedish cinema  But really  this film doesn t have much of a plot '], 'label': [0]}\n",
      "\n",
      "test DataSet:\n",
      " {'text': ['I love sci fi and am willing to put up with a lot  Sci fi movies TV are usually underfunded  under appreciated and misunderstood  I tried to like this  I really did  but it is to good TV sci fi as Babylon 5 is to Star Trek  the original   Silly prosthetics  cheap cardboard sets  stilted dialogues  CG that doesn t match the background  and painfully one dimensional characters cannot be overcome with a  sci fi  setting   I m sure there are those of you out there who think Babylon 5 is good sci fi TV  It s not  It s clichéd and uninspiring   While US viewers might like emotion and character development  sci fi is a genre that does not take itself seriously  cf  Star Trek   It may treat important issues  yet not as a serious philosophy  It s really difficult to care about the characters here as they are not simply foolish  just missing a spark of life  Their actions and reactions are wooden and predictable  often painful to watch  The makers of Earth KNOW it s rubbish as they have to always say  Gene Roddenberry s Earth     otherwise people would not continue watching  Roddenberry s ashes must be turning in their orbit as this dull  cheap  poorly edited  watching it without advert breaks really brings this home  trudging Trabant of a show lumbers into space  Spoiler  So  kill off a main character  And then bring him back as another actor  Jeeez  Dallas all over again '], 'label': [0]}\n",
      "\n",
      "unsupervised DataSet:\n",
      " {'text': ['This is just a precious little diamond  The play  the script are excellent  I cant compare this movie with anything else  maybe except the movie  Leon  wonderfully played by Jean Reno and Natalie Portman  But    What can I say about this one  This is the best movie Anne Parillaud has ever played in  See please  Frankie Starlight   she s speaking English there  to see what I mean  The story of young punk girl Nikita  taken into the depraved world of the secret government forces has been exceptionally over used by Americans  Never mind the  Point of no return  and especially the  La femme Nikita  TV series  They cannot compare the original believe me  Trash these videos  Buy this one  do not rent it  BUY it  BTW beware of the subtitles of the LA company which  translate  the US release  What a disgrace  If you cant understand French  get a dubbed version  But you ll regret later   '], 'label': [-1]}\n"
     ]
    }
   ],
   "execution_count": 8
  },
  {
   "metadata": {
    "ExecuteTime": {
     "end_time": "2024-12-20T16:32:29.999847Z",
     "start_time": "2024-12-20T16:32:29.977676Z"
    }
   },
   "cell_type": "code",
   "source": [
    "# Chat words conversion\n",
    "view_apply_function(ds, sample_size, fun=preprocess_chat_text)"
   ],
   "id": "f04d439898509283",
   "outputs": [
    {
     "name": "stdout",
     "output_type": "stream",
     "text": [
      "\n",
      "train DataSet:\n",
      " {'text': ['I rented I AM CURIOUS YELLOW from my video store because of all the controversy that surrounded it when it was first released in 1967  I also heard that at first it was seized by U S  customs if it ever tried to enter this country  therefore being a fan of films considered  controversial  I really had to see this for myself   The plot is centered around a young Swedish drama student named Lena who wants to learn everything she can about life  In particular she wants to focus her attentions to making some sort of documentary on what the average Swede thought about certain political issues such as the Vietnam War and race issues in the United States  In between asking politicians and ordinary denizens of Stockholm about their opinions on politics  she has sex with her drama teacher  classmates  and married men   What kills me about I AM CURIOUS YELLOW is that 40 years ago  this was considered pornographic  Really  the sex and nudity scenes are few and far between  even then it s not shot like some cheaply made porno  While my countrymen mind find it shocking  in reality sex and nudity are a major staple in Swedish cinema  Even Ingmar Bergman  arguably their answer to good old boy John Ford  had sex scenes in his films   I do commend the filmmakers for the fact that any sex shown in the film is shown for artistic purposes rather than just to shock people and make money to be shown in pornographic theaters in America  I AM CURIOUS YELLOW is a good film for anyone wanting to study the meat and potatoes  no pun intended  of Swedish cinema  But really  this film doesn t have much of a plot '], 'label': [0]}\n",
      "\n",
      "test DataSet:\n",
      " {'text': ['I love sci fi and am willing to put up with a lot  Sci fi movies TV are usually underfunded  under appreciated and misunderstood  I tried to like this  I really did  but it is to good TV sci fi as Babylon 5 is to Star Trek  the original   Silly prosthetics  cheap cardboard sets  stilted dialogues  CG that doesn t match the background  and painfully one dimensional characters cannot be overcome with a  sci fi  setting   I m sure there are those of you out there who think Babylon 5 is good sci fi TV  It s not  It s clichéd and uninspiring   While US viewers might like emotion and character development  sci fi is a genre that does not take itself seriously  cf  Star Trek   It may treat important issues  yet not as a serious philosophy  It s really difficult to care about the characters here as they are not simply foolish  just missing a spark of life  Their actions and reactions are wooden and predictable  often painful to watch  The makers of Earth KNOW it s rubbish as they have to always say  Gene Roddenberry s Earth     otherwise people would not continue watching  Roddenberry s ashes must be turning in their orbit as this dull  cheap  poorly edited  watching it without advert breaks really brings this home  trudging Trabant of a show lumbers into space  Spoiler  So  kill off a main character  And then bring him back as another actor  Jeeez  Dallas all over again '], 'label': [0]}\n",
      "\n",
      "unsupervised DataSet:\n",
      " {'text': ['This is just a precious little diamond  The play  the script are excellent  I cant compare this movie with anything else  maybe except the movie  Leon  wonderfully played by Jean Reno and Natalie Portman  But    What can I say about this one  This is the best movie Anne Parillaud has ever played in  See please  Frankie Starlight   she s speaking English there  to see what I mean  The story of young punk girl Nikita  taken into the depraved world of the secret government forces has been exceptionally over used by Americans  Never mind the  Point of no return  and especially the  La femme Nikita  TV series  They cannot compare the original believe me  Trash these videos  Buy this one  do not rent it  BUY it  BTW beware of the subtitles of the LA company which  translate  the US release  What a disgrace  If you cant understand French  get a dubbed version  But you ll regret later   '], 'label': [-1]}\n"
     ]
    }
   ],
   "execution_count": 9
  },
  {
   "metadata": {
    "ExecuteTime": {
     "end_time": "2024-12-20T16:32:30.006089Z",
     "start_time": "2024-12-20T16:32:30.004135Z"
    }
   },
   "cell_type": "code",
   "source": [
    "# Removing stopwords\n",
    "# view_apply_function(ds, sample_size, fun=remove_stopwords)"
   ],
   "id": "6aa7c9ef53020593",
   "outputs": [],
   "execution_count": 10
  },
  {
   "metadata": {
    "ExecuteTime": {
     "end_time": "2024-12-20T16:32:30.042670Z",
     "start_time": "2024-12-20T16:32:30.019956Z"
    }
   },
   "cell_type": "code",
   "source": [
    "# Emoji removal\n",
    "view_apply_function(ds, sample_size, fun=remove_emojis)"
   ],
   "id": "1a9460e90ed94283",
   "outputs": [
    {
     "name": "stdout",
     "output_type": "stream",
     "text": [
      "\n",
      "train DataSet:\n",
      " {'text': ['I rented I AM CURIOUS YELLOW from my video store because of all the controversy that surrounded it when it was first released in 1967  I also heard that at first it was seized by U S  customs if it ever tried to enter this country  therefore being a fan of films considered  controversial  I really had to see this for myself   The plot is centered around a young Swedish drama student named Lena who wants to learn everything she can about life  In particular she wants to focus her attentions to making some sort of documentary on what the average Swede thought about certain political issues such as the Vietnam War and race issues in the United States  In between asking politicians and ordinary denizens of Stockholm about their opinions on politics  she has sex with her drama teacher  classmates  and married men   What kills me about I AM CURIOUS YELLOW is that 40 years ago  this was considered pornographic  Really  the sex and nudity scenes are few and far between  even then it s not shot like some cheaply made porno  While my countrymen mind find it shocking  in reality sex and nudity are a major staple in Swedish cinema  Even Ingmar Bergman  arguably their answer to good old boy John Ford  had sex scenes in his films   I do commend the filmmakers for the fact that any sex shown in the film is shown for artistic purposes rather than just to shock people and make money to be shown in pornographic theaters in America  I AM CURIOUS YELLOW is a good film for anyone wanting to study the meat and potatoes  no pun intended  of Swedish cinema  But really  this film doesn t have much of a plot '], 'label': [0]}\n",
      "\n",
      "test DataSet:\n",
      " {'text': ['I love sci fi and am willing to put up with a lot  Sci fi movies TV are usually underfunded  under appreciated and misunderstood  I tried to like this  I really did  but it is to good TV sci fi as Babylon 5 is to Star Trek  the original   Silly prosthetics  cheap cardboard sets  stilted dialogues  CG that doesn t match the background  and painfully one dimensional characters cannot be overcome with a  sci fi  setting   I m sure there are those of you out there who think Babylon 5 is good sci fi TV  It s not  It s clichéd and uninspiring   While US viewers might like emotion and character development  sci fi is a genre that does not take itself seriously  cf  Star Trek   It may treat important issues  yet not as a serious philosophy  It s really difficult to care about the characters here as they are not simply foolish  just missing a spark of life  Their actions and reactions are wooden and predictable  often painful to watch  The makers of Earth KNOW it s rubbish as they have to always say  Gene Roddenberry s Earth     otherwise people would not continue watching  Roddenberry s ashes must be turning in their orbit as this dull  cheap  poorly edited  watching it without advert breaks really brings this home  trudging Trabant of a show lumbers into space  Spoiler  So  kill off a main character  And then bring him back as another actor  Jeeez  Dallas all over again '], 'label': [0]}\n",
      "\n",
      "unsupervised DataSet:\n",
      " {'text': ['This is just a precious little diamond  The play  the script are excellent  I cant compare this movie with anything else  maybe except the movie  Leon  wonderfully played by Jean Reno and Natalie Portman  But    What can I say about this one  This is the best movie Anne Parillaud has ever played in  See please  Frankie Starlight   she s speaking English there  to see what I mean  The story of young punk girl Nikita  taken into the depraved world of the secret government forces has been exceptionally over used by Americans  Never mind the  Point of no return  and especially the  La femme Nikita  TV series  They cannot compare the original believe me  Trash these videos  Buy this one  do not rent it  BUY it  BTW beware of the subtitles of the LA company which  translate  the US release  What a disgrace  If you cant understand French  get a dubbed version  But you ll regret later   '], 'label': [-1]}\n"
     ]
    }
   ],
   "execution_count": 11
  },
  {
   "metadata": {
    "ExecuteTime": {
     "end_time": "2024-12-20T16:32:30.057476Z",
     "start_time": "2024-12-20T16:32:30.048073Z"
    }
   },
   "cell_type": "code",
   "source": [
    "# Convert to lowercase\n",
    "view_apply_function(ds, sample_size, fun=to_lower_case)"
   ],
   "id": "b8a2dc8c18f25f08",
   "outputs": [
    {
     "name": "stdout",
     "output_type": "stream",
     "text": [
      "\n",
      "train DataSet:\n",
      " {'text': ['i rented i am curious yellow from my video store because of all the controversy that surrounded it when it was first released in 1967  i also heard that at first it was seized by u s  customs if it ever tried to enter this country  therefore being a fan of films considered  controversial  i really had to see this for myself   the plot is centered around a young swedish drama student named lena who wants to learn everything she can about life  in particular she wants to focus her attentions to making some sort of documentary on what the average swede thought about certain political issues such as the vietnam war and race issues in the united states  in between asking politicians and ordinary denizens of stockholm about their opinions on politics  she has sex with her drama teacher  classmates  and married men   what kills me about i am curious yellow is that 40 years ago  this was considered pornographic  really  the sex and nudity scenes are few and far between  even then it s not shot like some cheaply made porno  while my countrymen mind find it shocking  in reality sex and nudity are a major staple in swedish cinema  even ingmar bergman  arguably their answer to good old boy john ford  had sex scenes in his films   i do commend the filmmakers for the fact that any sex shown in the film is shown for artistic purposes rather than just to shock people and make money to be shown in pornographic theaters in america  i am curious yellow is a good film for anyone wanting to study the meat and potatoes  no pun intended  of swedish cinema  but really  this film doesn t have much of a plot '], 'label': [0]}\n",
      "\n",
      "test DataSet:\n",
      " {'text': ['i love sci fi and am willing to put up with a lot  sci fi movies tv are usually underfunded  under appreciated and misunderstood  i tried to like this  i really did  but it is to good tv sci fi as babylon 5 is to star trek  the original   silly prosthetics  cheap cardboard sets  stilted dialogues  cg that doesn t match the background  and painfully one dimensional characters cannot be overcome with a  sci fi  setting   i m sure there are those of you out there who think babylon 5 is good sci fi tv  it s not  it s clichéd and uninspiring   while us viewers might like emotion and character development  sci fi is a genre that does not take itself seriously  cf  star trek   it may treat important issues  yet not as a serious philosophy  it s really difficult to care about the characters here as they are not simply foolish  just missing a spark of life  their actions and reactions are wooden and predictable  often painful to watch  the makers of earth know it s rubbish as they have to always say  gene roddenberry s earth     otherwise people would not continue watching  roddenberry s ashes must be turning in their orbit as this dull  cheap  poorly edited  watching it without advert breaks really brings this home  trudging trabant of a show lumbers into space  spoiler  so  kill off a main character  and then bring him back as another actor  jeeez  dallas all over again '], 'label': [0]}\n",
      "\n",
      "unsupervised DataSet:\n",
      " {'text': ['this is just a precious little diamond  the play  the script are excellent  i cant compare this movie with anything else  maybe except the movie  leon  wonderfully played by jean reno and natalie portman  but    what can i say about this one  this is the best movie anne parillaud has ever played in  see please  frankie starlight   she s speaking english there  to see what i mean  the story of young punk girl nikita  taken into the depraved world of the secret government forces has been exceptionally over used by americans  never mind the  point of no return  and especially the  la femme nikita  tv series  they cannot compare the original believe me  trash these videos  buy this one  do not rent it  buy it  btw beware of the subtitles of the la company which  translate  the us release  what a disgrace  if you cant understand french  get a dubbed version  but you ll regret later   '], 'label': [-1]}\n"
     ]
    }
   ],
   "execution_count": 12
  },
  {
   "metadata": {
    "ExecuteTime": {
     "end_time": "2024-12-20T16:32:30.063608Z",
     "start_time": "2024-12-20T16:32:30.062019Z"
    }
   },
   "cell_type": "code",
   "source": [
    "# Spellings correction\n",
    "# view_apply_function(ds, sample_size, fun=correct_spelling)"
   ],
   "id": "4113cbeb0f3ede41",
   "outputs": [],
   "execution_count": 13
  },
  {
   "metadata": {
    "ExecuteTime": {
     "end_time": "2024-12-20T16:32:30.075444Z",
     "start_time": "2024-12-20T16:32:30.073915Z"
    }
   },
   "cell_type": "code",
   "source": [
    "# Tokenization\n",
    "# Apply the tokenizer using `map`\n",
    "# view_apply_function(ds, sample_size, tokenize_text)"
   ],
   "id": "fe9a5db0af5dbfb5",
   "outputs": [],
   "execution_count": 14
  },
  {
   "metadata": {
    "ExecuteTime": {
     "end_time": "2024-12-20T16:32:30.079327Z",
     "start_time": "2024-12-20T16:32:30.077875Z"
    }
   },
   "cell_type": "code",
   "source": [
    "# Tokenize text using regular expressions\n",
    "# view_apply_function(ds, sample_size, tokenize_regex)"
   ],
   "id": "8c2895300fe4604e",
   "outputs": [],
   "execution_count": 15
  },
  {
   "metadata": {
    "ExecuteTime": {
     "end_time": "2024-12-20T16:32:31.724299Z",
     "start_time": "2024-12-20T16:32:30.084743Z"
    }
   },
   "cell_type": "code",
   "source": [
    "# Save the preprocessed data\n",
    "path = '../data/preprocessed/'\n",
    "for set_name in set_names:\n",
    "    ds[set_name].to_csv(path + set_name + '.csv', index=False)\n",
    "    print(f'Dataset saved successfully to \\'{path + set_name + '.csv'}\\'')"
   ],
   "id": "5b6aa5ae81fd87a3",
   "outputs": [
    {
     "data": {
      "text/plain": [
       "Creating CSV from Arrow format:   0%|          | 0/25 [00:00<?, ?ba/s]"
      ],
      "application/vnd.jupyter.widget-view+json": {
       "version_major": 2,
       "version_minor": 0,
       "model_id": "39ea92c9578541f69c8fe1a58ec2360b"
      }
     },
     "metadata": {},
     "output_type": "display_data"
    },
    {
     "name": "stdout",
     "output_type": "stream",
     "text": [
      "Dataset saved successfully to '../data/preprocessed/train.csv'\n"
     ]
    },
    {
     "data": {
      "text/plain": [
       "Creating CSV from Arrow format:   0%|          | 0/25 [00:00<?, ?ba/s]"
      ],
      "application/vnd.jupyter.widget-view+json": {
       "version_major": 2,
       "version_minor": 0,
       "model_id": "06f311d49ca44406ad29972e6a82ec22"
      }
     },
     "metadata": {},
     "output_type": "display_data"
    },
    {
     "name": "stdout",
     "output_type": "stream",
     "text": [
      "Dataset saved successfully to '../data/preprocessed/test.csv'\n"
     ]
    },
    {
     "data": {
      "text/plain": [
       "Creating CSV from Arrow format:   0%|          | 0/50 [00:00<?, ?ba/s]"
      ],
      "application/vnd.jupyter.widget-view+json": {
       "version_major": 2,
       "version_minor": 0,
       "model_id": "46082005c07443e4afcea8dd24303956"
      }
     },
     "metadata": {},
     "output_type": "display_data"
    },
    {
     "name": "stdout",
     "output_type": "stream",
     "text": [
      "Dataset saved successfully to '../data/preprocessed/unsupervised.csv'\n"
     ]
    }
   ],
   "execution_count": 16
  },
  {
   "metadata": {
    "ExecuteTime": {
     "end_time": "2024-12-20T16:32:31.731975Z",
     "start_time": "2024-12-20T16:32:31.729419Z"
    }
   },
   "cell_type": "code",
   "source": [
    "# Load the data from the file\n",
    "# ds = load_dataset(file_out)\n",
    "# print(f'Dataset loaded successfully from \\'{file_out}\\'')\n",
    "\n",
    "ds.shape"
   ],
   "id": "ac88968951a3e456",
   "outputs": [
    {
     "data": {
      "text/plain": [
       "{'train': (25000, 2), 'test': (25000, 2), 'unsupervised': (50000, 2)}"
      ]
     },
     "execution_count": 17,
     "metadata": {},
     "output_type": "execute_result"
    }
   ],
   "execution_count": 17
  },
  {
   "metadata": {
    "ExecuteTime": {
     "end_time": "2024-12-20T16:32:31.748330Z",
     "start_time": "2024-12-20T16:32:31.746648Z"
    }
   },
   "cell_type": "code",
   "source": [
    "# # Stemming\n",
    "# stemmer = PorterStemmer()\n",
    "# print(stemmer.stem('running'))\n",
    "# print(stemmer.stem('easily'))"
   ],
   "id": "d2312216afc138e6",
   "outputs": [],
   "execution_count": 18
  },
  {
   "metadata": {
    "ExecuteTime": {
     "end_time": "2024-12-20T16:32:31.759443Z",
     "start_time": "2024-12-20T16:32:31.757747Z"
    }
   },
   "cell_type": "code",
   "source": [
    "# # Lemmatization\n",
    "# lemmatizer = WordNetLemmatizer()\n",
    "# print(lemmatizer.lemmatize('running', pos='v'))\n",
    "# print(lemmatizer.lemmatize('better', pos='a'))"
   ],
   "id": "390783651703e84d",
   "outputs": [],
   "execution_count": 19
  },
  {
   "metadata": {
    "ExecuteTime": {
     "end_time": "2024-12-20T16:32:31.763294Z",
     "start_time": "2024-12-20T16:32:31.761871Z"
    }
   },
   "cell_type": "code",
   "source": [
    "# # Sentence segmentation\n",
    "# text = 'This is a sentence. This is another sentence.'\n",
    "# sentences = nltk.sent_tokenize(text)\n",
    "# print(sentences)"
   ],
   "id": "6d2e819b4694d615",
   "outputs": [],
   "execution_count": 20
  },
  {
   "metadata": {
    "ExecuteTime": {
     "end_time": "2024-12-20T16:32:31.768869Z",
     "start_time": "2024-12-20T16:32:31.767459Z"
    }
   },
   "cell_type": "code",
   "source": "",
   "id": "1efe55b3ac199c6e",
   "outputs": [],
   "execution_count": null
  },
  {
   "metadata": {
    "ExecuteTime": {
     "end_time": "2024-12-20T16:32:31.774838Z",
     "start_time": "2024-12-20T16:32:31.773532Z"
    }
   },
   "cell_type": "code",
   "source": "",
   "id": "9b533120de990051",
   "outputs": [],
   "execution_count": null
  }
 ],
 "metadata": {
  "kernelspec": {
   "display_name": "Python 3",
   "language": "python",
   "name": "python3"
  },
  "language_info": {
   "codemirror_mode": {
    "name": "ipython",
    "version": 2
   },
   "file_extension": ".py",
   "mimetype": "text/x-python",
   "name": "python",
   "nbconvert_exporter": "python",
   "pygments_lexer": "ipython2",
   "version": "2.7.6"
  }
 },
 "nbformat": 4,
 "nbformat_minor": 5
}
